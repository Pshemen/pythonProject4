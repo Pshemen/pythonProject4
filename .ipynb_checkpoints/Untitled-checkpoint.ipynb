{
 "cells": [
  {
   "cell_type": "raw",
   "id": "ee65c47f",
   "metadata": {},
   "source": []
  },
  {
   "cell_type": "code",
   "execution_count": null,
   "id": "2f762e34",
   "metadata": {},
   "outputs": [],
   "source": [
    "import numpy as np\n",
    "import pandas as pd\n",
    "import matplotlib as mpl\n",
    "import matplotlib.pyplot as plt\n",
    "\n",
    "%matplotlib inline\n",
    "\n",
    "plt.style.use('ggplot')\n",
    "\n",
    "# plt.figure()  # stwórz nowy obiekt\n",
    "\n",
    "# # tworzenie pierwszego wykresu\n",
    "# plt.subplot(2, 1, 1)  # (wiersze, kolumny, numer panelu)\n",
    "# plt.plot(x, np.sin(x))\n",
    "\n",
    "# # tworzenie drugiego wykresu\n",
    "# plt.subplot(2, 1, 2)\n",
    "# plt.plot(x, np.cos(x));\n",
    "\n",
    "# x = np.linspace(0, 10, 100)\n",
    "\n",
    "# fig, ax = plt.subplots(2)\n",
    "\n",
    "# ax[0].plot(x, np.sin(x))\n",
    "# ax[1].plot(x, np.cos(x));\n",
    "\n",
    "# fig.savefig('my_figure.png')\n",
    "\n",
    "plt.plot(x, np.sin(x));\n",
    "plt.plot(x, np.sin(x))\n",
    "plt.plot(x, np.cos(x));\n",
    "plt.plot(x, np.sin(x - 0), color='blue')        # nazwa koloru\n",
    "plt.plot(x, np.sin(x - 1), color='g')           # kod koloru (rgbcmyk)\n",
    "plt.plot(x, np.sin(x - 2), color='0.75')        # grayscale (0-1)\n",
    "plt.plot(x, np.sin(x - 3), color='#FFDD44')     # hex RRGGBB\n",
    "plt.plot(x, np.sin(x - 4), color=(1.0,0.2,0.3)) # trójka reprezentująca wartości RGB\n",
    "plt.plot(x, np.sin(x - 5), color='chartreuse'); # nazwy z HTML\n",
    "\n",
    "# plt.plot(x, x + 0, '-g')\n",
    "# plt.plot(x, x + 1, '--c')\n",
    "# plt.plot(x, x + 2, '-.k')\n",
    "# plt.plot(x, x + 3, ':r');\n",
    "\n",
    "# plt.xlim(-1, 11)  # zakres osi OX\n",
    "# plt.ylim(-1.5, 1.5);  # zakres osi OY\n",
    "\n",
    "# help(plt.axis)\n",
    "\n"
   ]
  },
  {
   "cell_type": "code",
   "execution_count": null,
   "id": "f95974b1",
   "metadata": {},
   "outputs": [],
   "source": [
    "plt.plot(x, np.sin(x))\n",
    "plt.title(\"A Sine Curve\")\n",
    "plt.xlabel(\"x\")  \n",
    "plt.ylabel(\"sin(x)\");\n",
    "\n",
    "plt.plot(x, np.sin(x), '-g', label='sin(x)')\n",
    "plt.plot(x, np.cos(x), ':b', label='cos(x)')\n",
    "plt.axis('equal')\n",
    "\n",
    "plt.legend();"
   ]
  },
  {
   "cell_type": "code",
   "execution_count": null,
   "id": "9329b9d2",
   "metadata": {},
   "outputs": [],
   "source": []
  },
  {
   "cell_type": "code",
   "execution_count": null,
   "id": "cc043d55",
   "metadata": {},
   "outputs": [],
   "source": []
  }
 ],
 "metadata": {
  "kernelspec": {
   "display_name": "Python 3 (ipykernel)",
   "language": "python",
   "name": "python3"
  },
  "language_info": {
   "codemirror_mode": {
    "name": "ipython",
    "version": 3
   },
   "file_extension": ".py",
   "mimetype": "text/x-python",
   "name": "python",
   "nbconvert_exporter": "python",
   "pygments_lexer": "ipython3",
   "version": "3.7.9"
  }
 },
 "nbformat": 4,
 "nbformat_minor": 5
}
